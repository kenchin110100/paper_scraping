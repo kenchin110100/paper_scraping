{
 "cells": [
  {
   "cell_type": "markdown",
   "id": "10e3cca6-b239-4194-a59a-cc94d8439694",
   "metadata": {},
   "source": [
    "# 2023年recsysのpaper title / abstarctを取得する\n",
    "\n",
    "- タイトルにrecommendという文字が含まれるものに限る"
   ]
  },
  {
   "cell_type": "code",
   "execution_count": 2,
   "id": "7faef9c3-bc67-4a58-a8a8-7093a262c609",
   "metadata": {},
   "outputs": [],
   "source": [
    "import os\n",
    "import time\n",
    "from pathlib import Path\n",
    "\n",
    "from bs4 import BeautifulSoup\n",
    "import requests\n",
    "from pydantic.dataclasses import dataclass\n",
    "from openai import OpenAI\n",
    "from dotenv import load_dotenv\n",
    "from jinja2 import Template\n",
    "from tqdm.notebook import tqdm\n",
    "import polars as pl\n",
    "\n",
    "load_dotenv(\"../.env\")\n",
    "\n",
    "TEMPERATURE = 0.0\n",
    "SEED = 42\n",
    "MODEL = \"gpt-3.5-turbo\"\n",
    "\n",
    "OUTPUT_DIRPATH = Path(\"../data/processed/2023_kdd\")"
   ]
  },
  {
   "cell_type": "code",
   "execution_count": 3,
   "id": "46eec1d0-a326-4625-bb08-87fd0191aa17",
   "metadata": {},
   "outputs": [],
   "source": [
    "OUTPUT_DIRPATH.mkdir(exist_ok=True)"
   ]
  },
  {
   "cell_type": "markdown",
   "id": "de10ce5a-f376-429e-826e-2026bcf1c6bc",
   "metadata": {},
   "source": [
    "## Research Track"
   ]
  },
  {
   "cell_type": "code",
   "execution_count": 4,
   "id": "1df37246-8a75-4b40-aa4f-e2f0412e1d82",
   "metadata": {},
   "outputs": [],
   "source": [
    "url = \"https://kdd.org/kdd2023/research-track-papers/\"\n",
    "r = requests.get(url)\n",
    "soup = BeautifulSoup(r.content, \"html.parser\")"
   ]
  },
  {
   "cell_type": "code",
   "execution_count": 23,
   "id": "5fee05b7-9178-448b-8f36-43ac1a2c355d",
   "metadata": {},
   "outputs": [
    {
     "name": "stdout",
     "output_type": "stream",
     "text": [
      "22\n"
     ]
    }
   ],
   "source": [
    "@dataclass\n",
    "class Paper:\n",
    "    title: str\n",
    "    author: str\n",
    "    abstract: str = \"\"\n",
    "    title_ja: str = \"\"\n",
    "    abstract_ja: str = \"\"\n",
    "\n",
    "papers = []\n",
    "for element in soup.find(\"div\", class_=\"entry-content\").find_all(\"div\"):\n",
    "    title = element.find(\"h5\").text\n",
    "    author = element.find(\"p\").text\n",
    "    # titleにrecommendという文字が含まれている場合のみ処理\n",
    "    if \"recommend\" in title.lower():\n",
    "        papers.append(\n",
    "            Paper(title=title, author=author)\n",
    "        )\n",
    "\n",
    "print(len(papers))"
   ]
  },
  {
   "cell_type": "code",
   "execution_count": 24,
   "id": "239f642a-81dd-4b3d-bb8e-467f0b952bfc",
   "metadata": {},
   "outputs": [
    {
     "data": {
      "application/vnd.jupyter.widget-view+json": {
       "model_id": "ed33a0f221a14247a732f623dbe51622",
       "version_major": 2,
       "version_minor": 0
      },
      "text/plain": [
       "  0%|          | 0/22 [00:00<?, ?it/s]"
      ]
     },
     "metadata": {},
     "output_type": "display_data"
    }
   ],
   "source": [
    "# 日本語に翻訳\n",
    "\n",
    "system_content_template = Template('''あなたの仕事は英語の論文を日本語に翻訳することです。\n",
    "与えられた英語を日本語に翻訳してください\n",
    "''')\n",
    "\n",
    "user_content_template = Template('''以下に入力された英語の文章を日本語に翻訳してください\n",
    "\n",
    "\"\"\"入力\"\"\"\n",
    "{{ input }}\n",
    "''')\n",
    "\n",
    "client = OpenAI(api_key=os.environ[\"OPENAI_API_KEY\"])\n",
    "\n",
    "for paper in tqdm(papers):\n",
    "    messages = [\n",
    "        {\"role\": \"system\", \"content\": system_content_template.render()},\n",
    "        {\"role\": \"user\", \"content\": user_content_template.render(input=paper.title)}\n",
    "    ]\n",
    "    chat_completion = client.chat.completions.create(\n",
    "        messages=messages,\n",
    "        temperature=TEMPERATURE,\n",
    "        seed=SEED,\n",
    "        model=MODEL\n",
    "    )\n",
    "    paper.title_ja = chat_completion.choices[0].message.content\n",
    "    time.sleep(1)"
   ]
  },
  {
   "cell_type": "code",
   "execution_count": 26,
   "id": "b165c3a3-8d04-400f-b867-c816d4fa6ead",
   "metadata": {},
   "outputs": [],
   "source": [
    "df_papers = pl.DataFrame(papers)\n",
    "df_papers.write_csv(OUTPUT_DIRPATH / \"research_track.csv\")"
   ]
  },
  {
   "cell_type": "markdown",
   "id": "fbfb9a0e-7412-4b63-a082-0a436ab1d820",
   "metadata": {},
   "source": [
    "## ADS track"
   ]
  },
  {
   "cell_type": "code",
   "execution_count": 27,
   "id": "43348f2a-d3bc-4c78-afbb-a56d2c8ec3cb",
   "metadata": {},
   "outputs": [
    {
     "name": "stdout",
     "output_type": "stream",
     "text": [
      "25\n"
     ]
    }
   ],
   "source": [
    "url = \"https://kdd.org/kdd2023/ads-track-papers/\"\n",
    "r = requests.get(url)\n",
    "soup = BeautifulSoup(r.content, \"html.parser\")\n",
    "\n",
    "@dataclass\n",
    "class Paper:\n",
    "    title: str\n",
    "    author: str\n",
    "    abstract: str = \"\"\n",
    "    title_ja: str = \"\"\n",
    "    abstract_ja: str = \"\"\n",
    "\n",
    "papers = []\n",
    "for element in soup.find(\"div\", class_=\"entry-content\").find_all(\"div\"):\n",
    "    title = element.find(\"h5\").text\n",
    "    author = element.find(\"p\").text\n",
    "    # titleにrecommendという文字が含まれている場合のみ処理\n",
    "    if \"recommend\" in title.lower():\n",
    "        papers.append(\n",
    "            Paper(title=title, author=author)\n",
    "        )\n",
    "\n",
    "print(len(papers))"
   ]
  },
  {
   "cell_type": "code",
   "execution_count": 29,
   "id": "eb5d1670-6a12-488d-aa93-3077dc64ae74",
   "metadata": {},
   "outputs": [
    {
     "data": {
      "application/vnd.jupyter.widget-view+json": {
       "model_id": "f2c2d16b12bc428dadb74143769a7113",
       "version_major": 2,
       "version_minor": 0
      },
      "text/plain": [
       "  0%|          | 0/25 [00:00<?, ?it/s]"
      ]
     },
     "metadata": {},
     "output_type": "display_data"
    }
   ],
   "source": [
    "# 日本語に翻訳\n",
    "\n",
    "system_content_template = Template('''あなたの仕事は英語の論文を日本語に翻訳することです。\n",
    "与えられた英語を日本語に翻訳してください\n",
    "''')\n",
    "\n",
    "user_content_template = Template('''以下に入力された英語の文章を日本語に翻訳してください\n",
    "\n",
    "\"\"\"入力\"\"\"\n",
    "{{ input }}\n",
    "''')\n",
    "\n",
    "client = OpenAI(api_key=os.environ[\"OPENAI_API_KEY\"])\n",
    "\n",
    "for paper in tqdm(papers):\n",
    "    messages = [\n",
    "        {\"role\": \"system\", \"content\": system_content_template.render()},\n",
    "        {\"role\": \"user\", \"content\": user_content_template.render(input=paper.title)}\n",
    "    ]\n",
    "    chat_completion = client.chat.completions.create(\n",
    "        messages=messages,\n",
    "        temperature=TEMPERATURE,\n",
    "        seed=SEED,\n",
    "        model=MODEL\n",
    "    )\n",
    "    paper.title_ja = chat_completion.choices[0].message.content\n",
    "    time.sleep(1)"
   ]
  },
  {
   "cell_type": "code",
   "execution_count": 30,
   "id": "d1a17d10-af77-4f1c-9067-f9313d60c601",
   "metadata": {},
   "outputs": [],
   "source": [
    "df_papers = pl.DataFrame(papers)\n",
    "df_papers.write_csv(OUTPUT_DIRPATH / \"ads_track.csv\")"
   ]
  },
  {
   "cell_type": "code",
   "execution_count": null,
   "id": "97098899-c4be-4b16-998e-bbe04a0b8cd6",
   "metadata": {},
   "outputs": [],
   "source": []
  }
 ],
 "metadata": {
  "kernelspec": {
   "display_name": "Python 3 (ipykernel)",
   "language": "python",
   "name": "python3"
  },
  "language_info": {
   "codemirror_mode": {
    "name": "ipython",
    "version": 3
   },
   "file_extension": ".py",
   "mimetype": "text/x-python",
   "name": "python",
   "nbconvert_exporter": "python",
   "pygments_lexer": "ipython3",
   "version": "3.11.5"
  }
 },
 "nbformat": 4,
 "nbformat_minor": 5
}
