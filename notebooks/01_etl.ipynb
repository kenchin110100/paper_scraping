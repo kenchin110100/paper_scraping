{
 "cells": [
  {
   "cell_type": "markdown",
   "id": "24018bd9",
   "metadata": {},
   "source": [
    "# 対象ページから論文の一覧を取得して整形する"
   ]
  },
  {
   "cell_type": "code",
   "execution_count": null,
   "id": "a9337bdc",
   "metadata": {},
   "outputs": [],
   "source": [
    "from urllib import request\n",
    "from typing import List\n",
    "import re\n",
    "\n",
    "from bs4 import BeautifulSoup\n",
    "import pandas as pd"
   ]
  },
  {
   "cell_type": "code",
   "execution_count": null,
   "id": "417e4931",
   "metadata": {},
   "outputs": [],
   "source": [
    "def parse_author_text(text: str) -> List[List[str]]:\n",
    "    \"\"\"authorのtextを整形\n",
    "    \n",
    "    Args:\n",
    "        text (str): テキスト\n",
    "    \n",
    "    Returns:\n",
    "        List[str]: パース後のテキストを返却\n",
    "    \n",
    "    Examples:\n",
    "        text = ' Authors: Pieter Robberechts (KU Leuven)*; Jan Van Haaren (KU Leuven); Jesse Davis (KU Leuven)'\n",
    "    \"\"\"\n",
    "    # Authorsという文字を削除\n",
    "    text = re.sub(\"\\s*Authors:\\s*\", \"\", text)\n",
    "    # セミコロンでsplit\n",
    "    authors = text.split(\";\")\n",
    "    # 前後の空白を除去\n",
    "    authors = [author.strip() for author in authors]\n",
    "    # 名前と所属を分割\n",
    "    parsed_authors = []\n",
    "    for author in authors:\n",
    "        author_name = re.sub(\"\\s*\\(.+\\).*\", \"\", author)\n",
    "        try:\n",
    "            author_belong = re.search(\"\\((.+)\\)\", author).group(1)\n",
    "        except AttributeError:\n",
    "            author_belong = None\n",
    "        parsed_authors.append(\n",
    "            [author_name, author_belong]\n",
    "        )\n",
    "    return parsed_authors\n",
    "\n",
    "text = ' Authors: Pieter Robberechts (KU Leuven)*; Jan Van Haaren (KU Leuven); Jesse Davis (KU Leuven)'\n",
    "parse_author_text(text)\n",
    "    "
   ]
  },
  {
   "cell_type": "code",
   "execution_count": null,
   "id": "8aa2ced8",
   "metadata": {},
   "outputs": [],
   "source": [
    "url = 'https://kdd.org/kdd2021/accepted-papers/index'\n",
    "response = request.urlopen(url)\n",
    "soup = BeautifulSoup(response)\n",
    "response.close()"
   ]
  },
  {
   "cell_type": "code",
   "execution_count": null,
   "id": "4babcc19",
   "metadata": {},
   "outputs": [],
   "source": [
    "documents = []\n",
    "for element in soup.find_all('div', class_='justify-content-between')[2].find_all('div', class_='media-body'):\n",
    "    text = element.text\n",
    "    split_text = text.split(\"\\n\")\n",
    "    documents.append(\n",
    "        [split_text[1], split_text[3]] + [val for row in parse_author_text(split_text[3]) for val in row]\n",
    "    )"
   ]
  },
  {
   "cell_type": "code",
   "execution_count": null,
   "id": "9fdd8358",
   "metadata": {},
   "outputs": [],
   "source": [
    "max([len(doc) for doc in documents])"
   ]
  },
  {
   "cell_type": "code",
   "execution_count": null,
   "id": "9ca9f2ef",
   "metadata": {},
   "outputs": [],
   "source": [
    "pd.DataFrame(\n",
    "    documents,\n",
    "    columns=[\"title\", \"author_text\"] + [f\"author_name_{i}\" if j % 2 == 0 else f\"author_belong_{i}\" for i in range(23) for j in range(2)]\n",
    ").to_csv(\"../data/raw/kdd2021_ads_authors.csv\", index=False)"
   ]
  },
  {
   "cell_type": "code",
   "execution_count": null,
   "id": "c779e476",
   "metadata": {},
   "outputs": [],
   "source": []
  }
 ],
 "metadata": {
  "kernelspec": {
   "display_name": "Python 3 (ipykernel)",
   "language": "python",
   "name": "python3"
  },
  "language_info": {
   "codemirror_mode": {
    "name": "ipython",
    "version": 3
   },
   "file_extension": ".py",
   "mimetype": "text/x-python",
   "name": "python",
   "nbconvert_exporter": "python",
   "pygments_lexer": "ipython3",
   "version": "3.8.9"
  },
  "toc": {
   "base_numbering": 1,
   "nav_menu": {},
   "number_sections": true,
   "sideBar": true,
   "skip_h1_title": false,
   "title_cell": "Table of Contents",
   "title_sidebar": "Contents",
   "toc_cell": false,
   "toc_position": {},
   "toc_section_display": true,
   "toc_window_display": false
  }
 },
 "nbformat": 4,
 "nbformat_minor": 5
}
