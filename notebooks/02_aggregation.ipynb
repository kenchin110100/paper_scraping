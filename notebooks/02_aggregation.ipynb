{
 "cells": [
  {
   "cell_type": "markdown",
   "id": "85bd3b6d",
   "metadata": {},
   "source": [
    "# カンファレンスの著者情報を集計する"
   ]
  },
  {
   "cell_type": "code",
   "execution_count": 14,
   "id": "6d93a9e5",
   "metadata": {},
   "outputs": [],
   "source": [
    "import re\n",
    "\n",
    "import pandas as pd\n",
    "\n",
    "FILE_PATH = \"../data/raw/kdd2021_ads_authors.csv\""
   ]
  },
  {
   "cell_type": "code",
   "execution_count": 4,
   "id": "83e6faa9",
   "metadata": {},
   "outputs": [],
   "source": [
    "df = pd.read_csv(FILE_PATH)"
   ]
  },
  {
   "cell_type": "code",
   "execution_count": 11,
   "id": "0798a875",
   "metadata": {},
   "outputs": [
    {
     "data": {
      "text/html": [
       "<div>\n",
       "<style scoped>\n",
       "    .dataframe tbody tr th:only-of-type {\n",
       "        vertical-align: middle;\n",
       "    }\n",
       "\n",
       "    .dataframe tbody tr th {\n",
       "        vertical-align: top;\n",
       "    }\n",
       "\n",
       "    .dataframe thead th {\n",
       "        text-align: right;\n",
       "    }\n",
       "</style>\n",
       "<table border=\"1\" class=\"dataframe\">\n",
       "  <thead>\n",
       "    <tr style=\"text-align: right;\">\n",
       "      <th></th>\n",
       "      <th>author_belong_0</th>\n",
       "      <th>count</th>\n",
       "    </tr>\n",
       "  </thead>\n",
       "  <tbody>\n",
       "    <tr>\n",
       "      <th>1</th>\n",
       "      <td>Alibaba Group</td>\n",
       "      <td>11</td>\n",
       "    </tr>\n",
       "    <tr>\n",
       "      <th>79</th>\n",
       "      <td>Tsinghua University</td>\n",
       "      <td>6</td>\n",
       "    </tr>\n",
       "    <tr>\n",
       "      <th>52</th>\n",
       "      <td>Microsoft</td>\n",
       "      <td>4</td>\n",
       "    </tr>\n",
       "    <tr>\n",
       "      <th>26</th>\n",
       "      <td>Facebook</td>\n",
       "      <td>4</td>\n",
       "    </tr>\n",
       "    <tr>\n",
       "      <th>3</th>\n",
       "      <td>Amazon</td>\n",
       "      <td>4</td>\n",
       "    </tr>\n",
       "    <tr>\n",
       "      <th>30</th>\n",
       "      <td>Google</td>\n",
       "      <td>4</td>\n",
       "    </tr>\n",
       "    <tr>\n",
       "      <th>72</th>\n",
       "      <td>Stanford University</td>\n",
       "      <td>3</td>\n",
       "    </tr>\n",
       "    <tr>\n",
       "      <th>63</th>\n",
       "      <td>Rutgers University</td>\n",
       "      <td>3</td>\n",
       "    </tr>\n",
       "    <tr>\n",
       "      <th>53</th>\n",
       "      <td>Microsoft Research</td>\n",
       "      <td>3</td>\n",
       "    </tr>\n",
       "    <tr>\n",
       "      <th>51</th>\n",
       "      <td>Michigan State University</td>\n",
       "      <td>3</td>\n",
       "    </tr>\n",
       "    <tr>\n",
       "      <th>0</th>\n",
       "      <td>Alibaba</td>\n",
       "      <td>3</td>\n",
       "    </tr>\n",
       "    <tr>\n",
       "      <th>5</th>\n",
       "      <td>Baidu</td>\n",
       "      <td>3</td>\n",
       "    </tr>\n",
       "    <tr>\n",
       "      <th>58</th>\n",
       "      <td>New York University</td>\n",
       "      <td>2</td>\n",
       "    </tr>\n",
       "    <tr>\n",
       "      <th>86</th>\n",
       "      <td>University of Science and Technology of China</td>\n",
       "      <td>2</td>\n",
       "    </tr>\n",
       "    <tr>\n",
       "      <th>66</th>\n",
       "      <td>Shanghai Jiao Tong University</td>\n",
       "      <td>2</td>\n",
       "    </tr>\n",
       "    <tr>\n",
       "      <th>6</th>\n",
       "      <td>Baidu Inc.</td>\n",
       "      <td>2</td>\n",
       "    </tr>\n",
       "    <tr>\n",
       "      <th>7</th>\n",
       "      <td>Beihang University</td>\n",
       "      <td>2</td>\n",
       "    </tr>\n",
       "    <tr>\n",
       "      <th>50</th>\n",
       "      <td>Meituan</td>\n",
       "      <td>2</td>\n",
       "    </tr>\n",
       "    <tr>\n",
       "      <th>74</th>\n",
       "      <td>Tencent</td>\n",
       "      <td>2</td>\n",
       "    </tr>\n",
       "    <tr>\n",
       "      <th>85</th>\n",
       "      <td>University of Massachusetts Amherst</td>\n",
       "      <td>2</td>\n",
       "    </tr>\n",
       "  </tbody>\n",
       "</table>\n",
       "</div>"
      ],
      "text/plain": [
       "                                  author_belong_0  count\n",
       "1                                   Alibaba Group     11\n",
       "79                            Tsinghua University      6\n",
       "52                                      Microsoft      4\n",
       "26                                       Facebook      4\n",
       "3                                          Amazon      4\n",
       "30                                         Google      4\n",
       "72                            Stanford University      3\n",
       "63                             Rutgers University      3\n",
       "53                             Microsoft Research      3\n",
       "51                      Michigan State University      3\n",
       "0                                         Alibaba      3\n",
       "5                                           Baidu      3\n",
       "58                            New York University      2\n",
       "86  University of Science and Technology of China      2\n",
       "66                  Shanghai Jiao Tong University      2\n",
       "6                                      Baidu Inc.      2\n",
       "7                              Beihang University      2\n",
       "50                                        Meituan      2\n",
       "74                                        Tencent      2\n",
       "85            University of Massachusetts Amherst      2"
      ]
     },
     "execution_count": 11,
     "metadata": {},
     "output_type": "execute_result"
    }
   ],
   "source": [
    "# 投稿数が多い組織順\n",
    "df.groupby(\"author_belong_0\").size().to_frame(\"count\").reset_index().sort_values(\"count\", ascending=False).head(20)"
   ]
  },
  {
   "cell_type": "code",
   "execution_count": 30,
   "id": "45bdf127",
   "metadata": {},
   "outputs": [
    {
     "name": "stdout",
     "output_type": "stream",
     "text": [
      "全体:  155\n",
      "第1著者が教育機関所属:  65\n"
     ]
    }
   ],
   "source": [
    "# 教育機関で分ける\n",
    "\n",
    "def is_university(text: str) -> int:\n",
    "    \"\"\"教育機関か否かを判断する\"\"\"\n",
    "    regex = \".*(university|unviersity|unist|kaist|ucla|uc berkeley|iiit-d|leuven).*\"\n",
    "    if re.match(regex, text.lower()):\n",
    "        return 1\n",
    "    else:\n",
    "        return 0\n",
    "    \n",
    "df[\"is_university\"] = df[\"author_belong_0\"].apply(lambda x: is_university(x))\n",
    "\n",
    "print(\"全体: \", df.shape[0])\n",
    "print(\"第1著者が教育機関所属: \", df[\"is_university\"].sum())"
   ]
  },
  {
   "cell_type": "code",
   "execution_count": 26,
   "id": "42e798e7",
   "metadata": {},
   "outputs": [
    {
     "name": "stdout",
     "output_type": "stream",
     "text": [
      "['Meituan', 'Deezer', 'Alibaba', 'Similarweb', 'Skoltech', 'WeChat Search Application Department, Tencent', 'Alibaba Group', 'Amazon', 'Amazon', \"Huawei Noah's Ark Lab\", 'Huawei Technologies', 'Didi Chuxing', 'JD Tech', 'ETH Zürich', 'Huawei Technologies Canada Co., Ltd.', 'Intel', 'DeepBlue', 'Google Research', 'Google', 'Lyft', 'Intuit', 'Total', 'Facebook', 'Google', 'Microsoft', 'Alibaba Group', 'isi foundation', 'Alibaba Group', 'Damo Academy, Alibaba Group', 'Indian Institute of Technology Madras', 'Alibaba Inc.', 'Microsoft Research', 'Google Research', 'California Institute of Technology', 'Yahoo Research', 'Alibaba', 'Beijing Institute of Technology', 'Baidu Inc.', 'Alibaba Group', 'Amazon', 'Alibaba Group', 'ETH Zurich', 'Amazon', 'NetEase', 'Microsoft Research', 'Baidu', 'Facebook Inc.', 'Google', 'Alibaba Group', 'Business Intelligence Lab, Baidu Research', 'LinkedIn Corporation', 'Tencent', 'Institute of Computing Technology, Chinese Academy of Sciences', 'Alibaba Group', 'Alibaba Group', 'Alibaba Group', 'baidu', 'Alibaba Group', 'Baidu', 'Microsoft Research', 'Meituan', 'Google', 'Hasso Plattner Institute', 'Facebook', 'Alibaba Group', 'Microsoft', 'Tencent', 'eBay', 'Baidu Inc.', 'ETHZ', 'CNRS', 'Facebook', 'Alibaba', 'Microsoft Research Asia', 'Georgia Institute of Technology', 'Zalando SE', 'Xiaohongshu', 'Baidu', 'Siemens', 'Feedzai', 'Walmart Labs', 'LinkedIn', 'Technion', 'Tencent Inc.', 'DiDi AI Labs', 'Facebook', 'Yahoo Research', 'Microsoft', 'Ant Group', 'Microsoft']\n"
     ]
    }
   ],
   "source": [
    "print(companies)"
   ]
  },
  {
   "cell_type": "code",
   "execution_count": null,
   "id": "8fa2e42e",
   "metadata": {},
   "outputs": [],
   "source": []
  }
 ],
 "metadata": {
  "kernelspec": {
   "display_name": "Python 3 (ipykernel)",
   "language": "python",
   "name": "python3"
  },
  "language_info": {
   "codemirror_mode": {
    "name": "ipython",
    "version": 3
   },
   "file_extension": ".py",
   "mimetype": "text/x-python",
   "name": "python",
   "nbconvert_exporter": "python",
   "pygments_lexer": "ipython3",
   "version": "3.8.9"
  },
  "toc": {
   "base_numbering": 1,
   "nav_menu": {},
   "number_sections": true,
   "sideBar": true,
   "skip_h1_title": false,
   "title_cell": "Table of Contents",
   "title_sidebar": "Contents",
   "toc_cell": false,
   "toc_position": {},
   "toc_section_display": true,
   "toc_window_display": false
  }
 },
 "nbformat": 4,
 "nbformat_minor": 5
}
