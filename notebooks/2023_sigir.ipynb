{
 "cells": [
  {
   "cell_type": "markdown",
   "id": "2cce88a9-f26a-4d1b-8e7e-1f3929386214",
   "metadata": {},
   "source": [
    "# 2023年sigirのpaper title / abstarctを取得する\n",
    "\n",
    "- タイトルにrecommendという文字が含まれるものに限る"
   ]
  },
  {
   "cell_type": "code",
   "execution_count": 1,
   "id": "434f0826-d233-459a-ad98-ff749fa14953",
   "metadata": {},
   "outputs": [],
   "source": [
    "import os\n",
    "import time\n",
    "from pathlib import Path\n",
    "\n",
    "from bs4 import BeautifulSoup\n",
    "import requests\n",
    "from pydantic.dataclasses import dataclass\n",
    "from openai import OpenAI\n",
    "from dotenv import load_dotenv\n",
    "from jinja2 import Template\n",
    "from tqdm.notebook import tqdm\n",
    "import polars as pl\n",
    "\n",
    "load_dotenv(\"../.env\")\n",
    "\n",
    "TEMPERATURE = 0.0\n",
    "SEED = 42\n",
    "MODEL = \"gpt-3.5-turbo\"\n",
    "\n",
    "OUTPUT_DIRPATH = Path(\"../data/processed/2023_sigir\")"
   ]
  },
  {
   "cell_type": "code",
   "execution_count": 2,
   "id": "116ef950-a0b8-406c-80d4-81d56b056771",
   "metadata": {},
   "outputs": [],
   "source": [
    "OUTPUT_DIRPATH.mkdir(exist_ok=True)"
   ]
  },
  {
   "cell_type": "markdown",
   "id": "2031b3ac-cb43-40a9-8a07-39586daaf107",
   "metadata": {},
   "source": [
    "## Full Paper"
   ]
  },
  {
   "cell_type": "code",
   "execution_count": 3,
   "id": "a3de100b-32bf-4d20-a53d-33cff81815e5",
   "metadata": {},
   "outputs": [],
   "source": [
    "url = \"https://sigir.org/sigir2023/program/accepted-papers/full-papers/\"\n",
    "r = requests.get(url)\n",
    "soup = BeautifulSoup(r.content, \"html.parser\")"
   ]
  },
  {
   "cell_type": "code",
   "execution_count": 13,
   "id": "06f06829-5301-41b1-baf8-7c5221ee3ccf",
   "metadata": {},
   "outputs": [
    {
     "name": "stdout",
     "output_type": "stream",
     "text": [
      "65\n"
     ]
    }
   ],
   "source": [
    "@dataclass\n",
    "class Paper:\n",
    "    title: str\n",
    "    author: str\n",
    "    abstract: str = \"\"\n",
    "    title_ja: str = \"\"\n",
    "    abstract_ja: str = \"\"\n",
    "\n",
    "papers = []\n",
    "for element in soup.find(\"div\", class_=\"flex_column\").find_all(\"p\"):\n",
    "    title = element.find(\"strong\").text.lstrip(\"● \")\n",
    "    author = element.text.split(\"\\n\")[-1]\n",
    "    # titleにrecommendという文字が含まれている場合のみ処理\n",
    "    if \"recommend\" in title.lower():\n",
    "        papers.append(\n",
    "            Paper(title=title, author=author)\n",
    "        )\n",
    "\n",
    "print(len(papers))"
   ]
  },
  {
   "cell_type": "code",
   "execution_count": 15,
   "id": "52cb3683-1972-49f8-a4d6-42fa72345118",
   "metadata": {},
   "outputs": [
    {
     "data": {
      "application/vnd.jupyter.widget-view+json": {
       "model_id": "a565a0fda5974edcbf02b05f54b2eec9",
       "version_major": 2,
       "version_minor": 0
      },
      "text/plain": [
       "  0%|          | 0/65 [00:00<?, ?it/s]"
      ]
     },
     "metadata": {},
     "output_type": "display_data"
    }
   ],
   "source": [
    "# 日本語に翻訳\n",
    "\n",
    "system_content_template = Template('''あなたの仕事は英語の論文を日本語に翻訳することです。\n",
    "与えられた英語を日本語に翻訳してください\n",
    "''')\n",
    "\n",
    "user_content_template = Template('''以下に入力された英語の文章を日本語に翻訳してください\n",
    "\n",
    "\"\"\"入力\"\"\"\n",
    "{{ input }}\n",
    "''')\n",
    "\n",
    "client = OpenAI(api_key=os.environ[\"OPENAI_API_KEY\"])\n",
    "\n",
    "for paper in tqdm(papers):\n",
    "    messages = [\n",
    "        {\"role\": \"system\", \"content\": system_content_template.render()},\n",
    "        {\"role\": \"user\", \"content\": user_content_template.render(input=paper.title)}\n",
    "    ]\n",
    "    chat_completion = client.chat.completions.create(\n",
    "        messages=messages,\n",
    "        temperature=TEMPERATURE,\n",
    "        seed=SEED,\n",
    "        model=MODEL\n",
    "    )\n",
    "    paper.title_ja = chat_completion.choices[0].message.content\n",
    "    time.sleep(1)"
   ]
  },
  {
   "cell_type": "code",
   "execution_count": 16,
   "id": "939cc003-9372-4b5c-8c3e-853888c06fe7",
   "metadata": {},
   "outputs": [],
   "source": [
    "df_papers = pl.DataFrame(papers)\n",
    "df_papers.write_csv(OUTPUT_DIRPATH / \"full_paper.csv\")"
   ]
  },
  {
   "cell_type": "markdown",
   "id": "77689a12-8634-4b92-bd19-787e35c25396",
   "metadata": {},
   "source": [
    "## Short Paper"
   ]
  },
  {
   "cell_type": "code",
   "execution_count": 17,
   "id": "e047942c-6fd4-4731-9704-08adfe8668c3",
   "metadata": {},
   "outputs": [
    {
     "name": "stdout",
     "output_type": "stream",
     "text": [
      "31\n"
     ]
    }
   ],
   "source": [
    "url = \"https://sigir.org/sigir2023/program/accepted-papers/short-papers/\"\n",
    "r = requests.get(url)\n",
    "soup = BeautifulSoup(r.content, \"html.parser\")\n",
    "\n",
    "@dataclass\n",
    "class Paper:\n",
    "    title: str\n",
    "    author: str\n",
    "    abstract: str = \"\"\n",
    "    title_ja: str = \"\"\n",
    "    abstract_ja: str = \"\"\n",
    "\n",
    "papers = []\n",
    "for element in soup.find(\"div\", class_=\"flex_column\").find_all(\"p\"):\n",
    "    title = element.find(\"strong\").text.lstrip(\"● \")\n",
    "    author = element.text.split(\"\\n\")[-1]\n",
    "    # titleにrecommendという文字が含まれている場合のみ処理\n",
    "    if \"recommend\" in title.lower():\n",
    "        papers.append(\n",
    "            Paper(title=title, author=author)\n",
    "        )\n",
    "\n",
    "print(len(papers))"
   ]
  },
  {
   "cell_type": "code",
   "execution_count": null,
   "id": "713525e6-f303-4ddf-a1a2-ac11f54a5bfc",
   "metadata": {},
   "outputs": [],
   "source": []
  },
  {
   "cell_type": "code",
   "execution_count": 19,
   "id": "cf8b80a0-ad8b-48da-8de5-68f9b123ec26",
   "metadata": {},
   "outputs": [
    {
     "data": {
      "application/vnd.jupyter.widget-view+json": {
       "model_id": "24f173f8dae84a41a077208795d22bad",
       "version_major": 2,
       "version_minor": 0
      },
      "text/plain": [
       "  0%|          | 0/31 [00:00<?, ?it/s]"
      ]
     },
     "metadata": {},
     "output_type": "display_data"
    }
   ],
   "source": [
    "# 日本語に翻訳\n",
    "\n",
    "system_content_template = Template('''あなたの仕事は英語の論文を日本語に翻訳することです。\n",
    "与えられた英語を日本語に翻訳してください\n",
    "''')\n",
    "\n",
    "user_content_template = Template('''以下に入力された英語の文章を日本語に翻訳してください\n",
    "\n",
    "\"\"\"入力\"\"\"\n",
    "{{ input }}\n",
    "''')\n",
    "\n",
    "client = OpenAI(api_key=os.environ[\"OPENAI_API_KEY\"])\n",
    "\n",
    "for paper in tqdm(papers):\n",
    "    messages = [\n",
    "        {\"role\": \"system\", \"content\": system_content_template.render()},\n",
    "        {\"role\": \"user\", \"content\": user_content_template.render(input=paper.title)}\n",
    "    ]\n",
    "    chat_completion = client.chat.completions.create(\n",
    "        messages=messages,\n",
    "        temperature=TEMPERATURE,\n",
    "        seed=SEED,\n",
    "        model=MODEL\n",
    "    )\n",
    "    paper.title_ja = chat_completion.choices[0].message.content\n",
    "    time.sleep(1)"
   ]
  },
  {
   "cell_type": "code",
   "execution_count": 20,
   "id": "3e15d09b-fdcf-4d0a-8d3d-cf2257e3026f",
   "metadata": {},
   "outputs": [],
   "source": [
    "df_papers = pl.DataFrame(papers)\n",
    "df_papers.write_csv(OUTPUT_DIRPATH / \"short_paper.csv\")"
   ]
  },
  {
   "cell_type": "markdown",
   "id": "57b144c3-ee81-4061-9959-649f3d91cd4a",
   "metadata": {},
   "source": [
    "## Indursotial paper"
   ]
  },
  {
   "cell_type": "code",
   "execution_count": 21,
   "id": "8193bbf1-7e26-48bd-97c1-8cdee6eff635",
   "metadata": {},
   "outputs": [
    {
     "name": "stdout",
     "output_type": "stream",
     "text": [
      "12\n"
     ]
    }
   ],
   "source": [
    "url = \"https://sigir.org/sigir2023/program/accepted-papers/sirip-industrial-track/\"\n",
    "r = requests.get(url)\n",
    "soup = BeautifulSoup(r.content, \"html.parser\")\n",
    "\n",
    "@dataclass\n",
    "class Paper:\n",
    "    title: str\n",
    "    author: str\n",
    "    abstract: str = \"\"\n",
    "    title_ja: str = \"\"\n",
    "    abstract_ja: str = \"\"\n",
    "\n",
    "papers = []\n",
    "for element in soup.find(\"div\", class_=\"flex_column\").find_all(\"p\"):\n",
    "    title = element.find(\"strong\").text.lstrip(\"● \")\n",
    "    author = element.text.split(\"\\n\")[-1]\n",
    "    # titleにrecommendという文字が含まれている場合のみ処理\n",
    "    if \"recommend\" in title.lower():\n",
    "        papers.append(\n",
    "            Paper(title=title, author=author)\n",
    "        )\n",
    "\n",
    "print(len(papers))"
   ]
  },
  {
   "cell_type": "code",
   "execution_count": 22,
   "id": "234f5ace-a6e7-481f-9afb-77e089309494",
   "metadata": {},
   "outputs": [
    {
     "data": {
      "application/vnd.jupyter.widget-view+json": {
       "model_id": "92213e7b041d4d2ca8be92ec03735a75",
       "version_major": 2,
       "version_minor": 0
      },
      "text/plain": [
       "  0%|          | 0/12 [00:00<?, ?it/s]"
      ]
     },
     "metadata": {},
     "output_type": "display_data"
    }
   ],
   "source": [
    "# 日本語に翻訳\n",
    "\n",
    "system_content_template = Template('''あなたの仕事は英語の論文を日本語に翻訳することです。\n",
    "与えられた英語を日本語に翻訳してください\n",
    "''')\n",
    "\n",
    "user_content_template = Template('''以下に入力された英語の文章を日本語に翻訳してください\n",
    "\n",
    "\"\"\"入力\"\"\"\n",
    "{{ input }}\n",
    "''')\n",
    "\n",
    "client = OpenAI(api_key=os.environ[\"OPENAI_API_KEY\"])\n",
    "\n",
    "for paper in tqdm(papers):\n",
    "    messages = [\n",
    "        {\"role\": \"system\", \"content\": system_content_template.render()},\n",
    "        {\"role\": \"user\", \"content\": user_content_template.render(input=paper.title)}\n",
    "    ]\n",
    "    chat_completion = client.chat.completions.create(\n",
    "        messages=messages,\n",
    "        temperature=TEMPERATURE,\n",
    "        seed=SEED,\n",
    "        model=MODEL\n",
    "    )\n",
    "    paper.title_ja = chat_completion.choices[0].message.content\n",
    "    time.sleep(1)"
   ]
  },
  {
   "cell_type": "code",
   "execution_count": 23,
   "id": "2ec06955-57e3-46bb-86b8-69cc87f58ff6",
   "metadata": {},
   "outputs": [],
   "source": [
    "df_papers = pl.DataFrame(papers)\n",
    "df_papers.write_csv(OUTPUT_DIRPATH / \"industrial_paper.csv\")"
   ]
  },
  {
   "cell_type": "code",
   "execution_count": null,
   "id": "5614b76a-54a3-46a0-aab9-1e957fa2b503",
   "metadata": {},
   "outputs": [],
   "source": []
  }
 ],
 "metadata": {
  "kernelspec": {
   "display_name": "Python 3 (ipykernel)",
   "language": "python",
   "name": "python3"
  },
  "language_info": {
   "codemirror_mode": {
    "name": "ipython",
    "version": 3
   },
   "file_extension": ".py",
   "mimetype": "text/x-python",
   "name": "python",
   "nbconvert_exporter": "python",
   "pygments_lexer": "ipython3",
   "version": "3.11.5"
  }
 },
 "nbformat": 4,
 "nbformat_minor": 5
}
