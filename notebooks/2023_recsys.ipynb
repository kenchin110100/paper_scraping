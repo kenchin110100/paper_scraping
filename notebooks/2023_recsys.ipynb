{
 "cells": [
  {
   "cell_type": "markdown",
   "metadata": {},
   "source": [
    "# 2023年recsysのpaper title / abstarctを取得する"
   ]
  },
  {
   "cell_type": "code",
   "execution_count": 57,
   "metadata": {},
   "outputs": [],
   "source": [
    "import os\n",
    "import time\n",
    "from pathlib import Path\n",
    "\n",
    "from bs4 import BeautifulSoup\n",
    "import requests\n",
    "from pydantic.dataclasses import dataclass\n",
    "from openai import OpenAI\n",
    "from dotenv import load_dotenv\n",
    "from jinja2 import Template\n",
    "from tqdm.notebook import tqdm\n",
    "import polars as pl\n",
    "\n",
    "load_dotenv(\"../.env\")\n",
    "\n",
    "TEMPERATURE = 0.0\n",
    "SEED = 42\n",
    "MODEL = \"gpt-3.5-turbo\"\n",
    "\n",
    "OUTPUT_DIRPATH = Path(\"../data/processed/2023-recsys\")"
   ]
  },
  {
   "cell_type": "code",
   "execution_count": 58,
   "metadata": {},
   "outputs": [],
   "source": [
    "OUTPUT_DIRPATH.mkdir(exist_ok=True)"
   ]
  },
  {
   "cell_type": "markdown",
   "metadata": {},
   "source": [
    "## Long paper"
   ]
  },
  {
   "cell_type": "code",
   "execution_count": 2,
   "metadata": {},
   "outputs": [],
   "source": [
    "url = \"https://recsys.acm.org/recsys23/accepted-contributions/#content-tab-1-0-tab\"\n",
    "r = requests.get(url)\n",
    "soup = BeautifulSoup(r.content, \"html.parser\")"
   ]
  },
  {
   "cell_type": "code",
   "execution_count": 48,
   "metadata": {},
   "outputs": [],
   "source": [
    "@dataclass\n",
    "class Paper:\n",
    "    title: str\n",
    "    author: str\n",
    "    abstract: str\n",
    "    title_ja: str = \"\"\n",
    "    abstract_ja: str = \"\"\n",
    "\n",
    "papers = []\n",
    "for element in soup.find(id=\"content-tab-1-0\").find_all(\"li\"):\n",
    "    texts = [text for text in element.text.split(\"\\n\") if text]\n",
    "    title = texts[0].lstrip(\"RES\")\n",
    "    author = texts[1].lstrip(\"by \")\n",
    "    abstract = texts[2]\n",
    "    papers.append(\n",
    "        Paper(title=title, author=author, abstract=abstract)\n",
    "    )"
   ]
  },
  {
   "cell_type": "code",
   "execution_count": 53,
   "metadata": {},
   "outputs": [
    {
     "data": {
      "application/vnd.jupyter.widget-view+json": {
       "model_id": "adae8429fd5c4fefae97d08faa7d4d61",
       "version_major": 2,
       "version_minor": 0
      },
      "text/plain": [
       "  0%|          | 0/46 [00:00<?, ?it/s]"
      ]
     },
     "metadata": {},
     "output_type": "display_data"
    }
   ],
   "source": [
    "# 日本語に翻訳\n",
    "\n",
    "system_content_template = Template('''あなたの仕事は英語の論文を日本語に翻訳することです。\n",
    "与えられた英語を日本語に翻訳してください\n",
    "''')\n",
    "\n",
    "user_content_template = Template('''以下に入力された英語の文章を日本語に翻訳してください\n",
    "\n",
    "\"\"\"入力\"\"\"\n",
    "{{ input }}\n",
    "''')\n",
    "\n",
    "client = OpenAI(api_key=os.environ[\"OPENAI_API_KEY\"])\n",
    "\n",
    "for paper in tqdm(papers):\n",
    "    messages = [\n",
    "        {\"role\": \"system\", \"content\": system_content_template.render()},\n",
    "        {\"role\": \"user\", \"content\": user_content_template.render(input=paper.title)}\n",
    "    ]\n",
    "    chat_completion = client.chat.completions.create(\n",
    "        messages=messages,\n",
    "        temperature=TEMPERATURE,\n",
    "        seed=SEED,\n",
    "        model=MODEL\n",
    "    )\n",
    "    paper.title_ja = chat_completion.choices[0].message.content\n",
    "    time.sleep(1)\n",
    "    messages = [\n",
    "        {\"role\": \"system\", \"content\": system_content_template.render()},\n",
    "        {\"role\": \"user\", \"content\": user_content_template.render(input=paper.abstract)}\n",
    "    ]\n",
    "    chat_completion = client.chat.completions.create(\n",
    "        messages=messages,\n",
    "        temperature=TEMPERATURE,\n",
    "        seed=SEED,\n",
    "        model=MODEL\n",
    "    )\n",
    "    paper.abstract_ja = chat_completion.choices[0].message.content\n",
    "    time.sleep(1)"
   ]
  },
  {
   "cell_type": "code",
   "execution_count": 62,
   "metadata": {},
   "outputs": [],
   "source": [
    "df_papers = pl.DataFrame(papers)\n",
    "df_papers.write_csv(OUTPUT_DIRPATH / \"long_papers.csv\")"
   ]
  },
  {
   "cell_type": "markdown",
   "metadata": {},
   "source": [
    "## short paper"
   ]
  },
  {
   "cell_type": "code",
   "execution_count": 63,
   "metadata": {},
   "outputs": [],
   "source": [
    "papers = []\n",
    "for element in soup.find(id=\"content-tab-1-1\").find_all(\"li\"):\n",
    "    texts = [text for text in element.text.split(\"\\n\") if text]\n",
    "    title = texts[0].lstrip(\"RES\")\n",
    "    author = texts[1].lstrip(\"by \")\n",
    "    abstract = texts[2]\n",
    "    papers.append(\n",
    "        Paper(title=title, author=author, abstract=abstract)\n",
    "    )"
   ]
  },
  {
   "cell_type": "code",
   "execution_count": 68,
   "metadata": {},
   "outputs": [
    {
     "data": {
      "application/vnd.jupyter.widget-view+json": {
       "model_id": "a84fce6b65ee48aebaf3c913178f89cc",
       "version_major": 2,
       "version_minor": 0
      },
      "text/plain": [
       "  0%|          | 0/48 [00:00<?, ?it/s]"
      ]
     },
     "metadata": {},
     "output_type": "display_data"
    }
   ],
   "source": [
    "# 日本語に翻訳\n",
    "\n",
    "system_content_template = Template('''あなたの仕事は英語の論文を日本語に翻訳することです。\n",
    "与えられた英語を日本語に翻訳してください\n",
    "''')\n",
    "\n",
    "user_content_template = Template('''以下に入力された英語の文章を日本語に翻訳してください\n",
    "\n",
    "\"\"\"入力\"\"\"\n",
    "{{ input }}\n",
    "''')\n",
    "\n",
    "client = OpenAI(api_key=os.environ[\"OPENAI_API_KEY\"])\n",
    "\n",
    "for paper in tqdm(papers):\n",
    "    messages = [\n",
    "        {\"role\": \"system\", \"content\": system_content_template.render()},\n",
    "        {\"role\": \"user\", \"content\": user_content_template.render(input=paper.title)}\n",
    "    ]\n",
    "    chat_completion = client.chat.completions.create(\n",
    "        messages=messages,\n",
    "        temperature=TEMPERATURE,\n",
    "        seed=SEED,\n",
    "        model=MODEL\n",
    "    )\n",
    "    paper.title_ja = chat_completion.choices[0].message.content\n",
    "    time.sleep(1)\n",
    "    messages = [\n",
    "        {\"role\": \"system\", \"content\": system_content_template.render()},\n",
    "        {\"role\": \"user\", \"content\": user_content_template.render(input=paper.abstract)}\n",
    "    ]\n",
    "    chat_completion = client.chat.completions.create(\n",
    "        messages=messages,\n",
    "        temperature=TEMPERATURE,\n",
    "        seed=SEED,\n",
    "        model=MODEL\n",
    "    )\n",
    "    paper.abstract_ja = chat_completion.choices[0].message.content\n",
    "    time.sleep(1)"
   ]
  },
  {
   "cell_type": "code",
   "execution_count": 69,
   "metadata": {},
   "outputs": [],
   "source": [
    "df_papers = pl.DataFrame(papers)\n",
    "df_papers.write_csv(OUTPUT_DIRPATH / \"short_papers.csv\")"
   ]
  },
  {
   "cell_type": "markdown",
   "metadata": {},
   "source": [
    "## Industory Paper"
   ]
  },
  {
   "cell_type": "code",
   "execution_count": 73,
   "metadata": {},
   "outputs": [],
   "source": [
    "papers = []\n",
    "for element in soup.find(id=\"content-tab-1-6\").find_all(\"li\"):\n",
    "    texts = [text for text in element.text.split(\"\\n\") if text]\n",
    "    title = texts[0].lstrip(\"IND\")\n",
    "    author = texts[1].lstrip(\"by \")\n",
    "    abstract = texts[2]\n",
    "    papers.append(\n",
    "        Paper(title=title, author=author, abstract=abstract)\n",
    "    )"
   ]
  },
  {
   "cell_type": "code",
   "execution_count": 76,
   "metadata": {},
   "outputs": [
    {
     "data": {
      "application/vnd.jupyter.widget-view+json": {
       "model_id": "5819c881fb7a4f0e9cb91c4e1f803215",
       "version_major": 2,
       "version_minor": 0
      },
      "text/plain": [
       "  0%|          | 0/30 [00:00<?, ?it/s]"
      ]
     },
     "metadata": {},
     "output_type": "display_data"
    }
   ],
   "source": [
    "# 日本語に翻訳\n",
    "\n",
    "system_content_template = Template('''あなたの仕事は英語の論文を日本語に翻訳することです。\n",
    "与えられた英語を日本語に翻訳してください\n",
    "''')\n",
    "\n",
    "user_content_template = Template('''以下に入力された英語の文章を日本語に翻訳してください\n",
    "\n",
    "\"\"\"入力\"\"\"\n",
    "{{ input }}\n",
    "''')\n",
    "\n",
    "client = OpenAI(api_key=os.environ[\"OPENAI_API_KEY\"])\n",
    "\n",
    "for paper in tqdm(papers):\n",
    "    messages = [\n",
    "        {\"role\": \"system\", \"content\": system_content_template.render()},\n",
    "        {\"role\": \"user\", \"content\": user_content_template.render(input=paper.title)}\n",
    "    ]\n",
    "    chat_completion = client.chat.completions.create(\n",
    "        messages=messages,\n",
    "        temperature=TEMPERATURE,\n",
    "        seed=SEED,\n",
    "        model=MODEL\n",
    "    )\n",
    "    paper.title_ja = chat_completion.choices[0].message.content\n",
    "    time.sleep(1)\n",
    "    messages = [\n",
    "        {\"role\": \"system\", \"content\": system_content_template.render()},\n",
    "        {\"role\": \"user\", \"content\": user_content_template.render(input=paper.abstract)}\n",
    "    ]\n",
    "    chat_completion = client.chat.completions.create(\n",
    "        messages=messages,\n",
    "        temperature=TEMPERATURE,\n",
    "        seed=SEED,\n",
    "        model=MODEL\n",
    "    )\n",
    "    paper.abstract_ja = chat_completion.choices[0].message.content\n",
    "    time.sleep(1)"
   ]
  },
  {
   "cell_type": "code",
   "execution_count": 77,
   "metadata": {},
   "outputs": [],
   "source": [
    "df_papers = pl.DataFrame(papers)\n",
    "df_papers.write_csv(OUTPUT_DIRPATH / \"industory_papers.csv\")"
   ]
  },
  {
   "cell_type": "code",
   "execution_count": null,
   "metadata": {},
   "outputs": [],
   "source": []
  }
 ],
 "metadata": {
  "kernelspec": {
   "display_name": "Python 3 (ipykernel)",
   "language": "python",
   "name": "python3"
  },
  "language_info": {
   "codemirror_mode": {
    "name": "ipython",
    "version": 3
   },
   "file_extension": ".py",
   "mimetype": "text/x-python",
   "name": "python",
   "nbconvert_exporter": "python",
   "pygments_lexer": "ipython3",
   "version": "3.11.5"
  }
 },
 "nbformat": 4,
 "nbformat_minor": 4
}
